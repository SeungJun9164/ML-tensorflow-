{
 "cells": [
  {
   "cell_type": "code",
   "execution_count": 2,
   "metadata": {},
   "outputs": [
    {
     "name": "stdout",
     "output_type": "stream",
     "text": [
      "2.3.0\n"
     ]
    }
   ],
   "source": [
    "import tensorflow as tf\n",
    "from tensorflow import keras\n",
    "import numpy as np\n",
    "\n",
    "print(tf.__version__)"
   ]
  },
  {
   "cell_type": "code",
   "execution_count": 4,
   "metadata": {},
   "outputs": [],
   "source": [
    "imdb = keras.datasets.imdb\n",
    "\n",
    "# num_words = 10000 : 가장 많이 등장하는 상위 10000개 단어 선택\n",
    "(train_data, train_labels), (test_data, test_labels) = imdb.load_data(num_words=10000)"
   ]
  },
  {
   "cell_type": "code",
   "execution_count": 5,
   "metadata": {},
   "outputs": [
    {
     "name": "stdout",
     "output_type": "stream",
     "text": [
      "훈련 샘플 : 25000, 레이블 : 25000\n"
     ]
    }
   ],
   "source": [
    "print(\"훈련 샘플 : {}, 레이블 : {}\".format(len(train_data), len(train_labels)))"
   ]
  },
  {
   "cell_type": "code",
   "execution_count": 6,
   "metadata": {},
   "outputs": [
    {
     "name": "stdout",
     "output_type": "stream",
     "text": [
      "[1, 14, 22, 16, 43, 530, 973, 1622, 1385, 65, 458, 4468, 66, 3941, 4, 173, 36, 256, 5, 25, 100, 43, 838, 112, 50, 670, 2, 9, 35, 480, 284, 5, 150, 4, 172, 112, 167, 2, 336, 385, 39, 4, 172, 4536, 1111, 17, 546, 38, 13, 447, 4, 192, 50, 16, 6, 147, 2025, 19, 14, 22, 4, 1920, 4613, 469, 4, 22, 71, 87, 12, 16, 43, 530, 38, 76, 15, 13, 1247, 4, 22, 17, 515, 17, 12, 16, 626, 18, 2, 5, 62, 386, 12, 8, 316, 8, 106, 5, 4, 2223, 5244, 16, 480, 66, 3785, 33, 4, 130, 12, 16, 38, 619, 5, 25, 124, 51, 36, 135, 48, 25, 1415, 33, 6, 22, 12, 215, 28, 77, 52, 5, 14, 407, 16, 82, 2, 8, 4, 107, 117, 5952, 15, 256, 4, 2, 7, 3766, 5, 723, 36, 71, 43, 530, 476, 26, 400, 317, 46, 7, 4, 2, 1029, 13, 104, 88, 4, 381, 15, 297, 98, 32, 2071, 56, 26, 141, 6, 194, 7486, 18, 4, 226, 22, 21, 134, 476, 26, 480, 5, 144, 30, 5535, 18, 51, 36, 28, 224, 92, 25, 104, 4, 226, 65, 16, 38, 1334, 88, 12, 16, 283, 5, 16, 4472, 113, 103, 32, 15, 16, 5345, 19, 178, 32]\n"
     ]
    }
   ],
   "source": [
    "print(train_data[0])"
   ]
  },
  {
   "cell_type": "code",
   "execution_count": 7,
   "metadata": {},
   "outputs": [
    {
     "data": {
      "text/plain": [
       "(218, 189)"
      ]
     },
     "execution_count": 7,
     "metadata": {},
     "output_type": "execute_result"
    }
   ],
   "source": [
    "len(train_data[0]), len(train_data[1])"
   ]
  },
  {
   "cell_type": "code",
   "execution_count": 24,
   "metadata": {},
   "outputs": [],
   "source": [
    "word_index = {k:(v+3) for k,v in word_index.items()}\n",
    "\n",
    "word_index[\"<PAD>\"] = 0\n",
    "word_index[\"<START>\"] = 1\n",
    "word_index[\"<UNK>\"] = 2  # unknown\n",
    "word_index[\"<UNUSED>\"] = 3\n",
    "\n",
    "reverse_word_index = dict([(value, key) for (key, value) in word_index.items()])\n",
    "\n",
    "def decode_review(text):\n",
    "    return ' '.join([reverse_word_index.get(i, '?') for i in text])"
   ]
  },
  {
   "cell_type": "code",
   "execution_count": 25,
   "metadata": {},
   "outputs": [
    {
     "data": {
      "text/plain": [
       "'<START> and i of by run total personality thrown up oh taught no tap ? nothing his rather ? was most by viewing after her order <UNK> ? are turn different ? such ? funny after 10 <UNK> nice tell be ? funny cd moves to stories he the cinema ? things her of ? why debut br and i ? candy im already ? i would bad ? of by run he see a the surprisingly ? i to child to ? of shown is <UNK> ? more remember ? ? beautiful ? make ? ? tape challenged of turn no kenneth not ? where ? of he looked ? was never or his ever from was track not ? i ? action with their just ? and written of well <UNK> ? ? them films suggestion a rather ? <UNK> ? scripted ? easily his would by run under as understand john who ? ? <UNK> talented the then get ? women a dvd how on santa has as man ? young ignores is ? role i it off under as turn ? say but reluctant is or his with must into was then ? role up of he producer get ? of book ? of namely think its on a of coincidence br find on'"
      ]
     },
     "execution_count": 25,
     "metadata": {},
     "output_type": "execute_result"
    }
   ],
   "source": [
    "decode_review(train_data[0])"
   ]
  },
  {
   "cell_type": "code",
   "execution_count": 27,
   "metadata": {},
   "outputs": [],
   "source": [
    "train_data = keras.preprocessing.sequence.pad_sequences(train_data,\n",
    "                                                       value=word_index[\"<PAD>\"],\n",
    "                                                       padding='post',\n",
    "                                                       maxlen=256)\n",
    "test_data = keras.preprocessing.sequence.pad_sequences(test_data,\n",
    "                                                       value=word_index[\"<PAD>\"],\n",
    "                                                       padding='post',\n",
    "                                                       maxlen=256)"
   ]
  },
  {
   "cell_type": "code",
   "execution_count": 29,
   "metadata": {},
   "outputs": [
    {
     "data": {
      "text/plain": [
       "(256, 256)"
      ]
     },
     "execution_count": 29,
     "metadata": {},
     "output_type": "execute_result"
    }
   ],
   "source": [
    "len(train_data[0]), len(test_data[0])"
   ]
  },
  {
   "cell_type": "code",
   "execution_count": 30,
   "metadata": {},
   "outputs": [
    {
     "name": "stdout",
     "output_type": "stream",
     "text": [
      "[   1   14   22   16   43  530  973 1622 1385   65  458 4468   66 3941\n",
      "    4  173   36  256    5   25  100   43  838  112   50  670    2    9\n",
      "   35  480  284    5  150    4  172  112  167    2  336  385   39    4\n",
      "  172 4536 1111   17  546   38   13  447    4  192   50   16    6  147\n",
      " 2025   19   14   22    4 1920 4613  469    4   22   71   87   12   16\n",
      "   43  530   38   76   15   13 1247    4   22   17  515   17   12   16\n",
      "  626   18    2    5   62  386   12    8  316    8  106    5    4 2223\n",
      " 5244   16  480   66 3785   33    4  130   12   16   38  619    5   25\n",
      "  124   51   36  135   48   25 1415   33    6   22   12  215   28   77\n",
      "   52    5   14  407   16   82    2    8    4  107  117 5952   15  256\n",
      "    4    2    7 3766    5  723   36   71   43  530  476   26  400  317\n",
      "   46    7    4    2 1029   13  104   88    4  381   15  297   98   32\n",
      " 2071   56   26  141    6  194 7486   18    4  226   22   21  134  476\n",
      "   26  480    5  144   30 5535   18   51   36   28  224   92   25  104\n",
      "    4  226   65   16   38 1334   88   12   16  283    5   16 4472  113\n",
      "  103   32   15   16 5345   19  178   32    0    0    0    0    0    0\n",
      "    0    0    0    0    0    0    0    0    0    0    0    0    0    0\n",
      "    0    0    0    0    0    0    0    0    0    0    0    0    0    0\n",
      "    0    0    0    0]\n"
     ]
    }
   ],
   "source": [
    "print(train_data[0])"
   ]
  },
  {
   "cell_type": "code",
   "execution_count": 34,
   "metadata": {},
   "outputs": [
    {
     "name": "stdout",
     "output_type": "stream",
     "text": [
      "Model: \"sequential_2\"\n",
      "_________________________________________________________________\n",
      "Layer (type)                 Output Shape              Param #   \n",
      "=================================================================\n",
      "embedding_1 (Embedding)      (None, None, 16)          160000    \n",
      "_________________________________________________________________\n",
      "global_average_pooling1d (Gl (None, 16)                0         \n",
      "_________________________________________________________________\n",
      "dense (Dense)                (None, 16)                272       \n",
      "_________________________________________________________________\n",
      "dense_1 (Dense)              (None, 1)                 17        \n",
      "=================================================================\n",
      "Total params: 160,289\n",
      "Trainable params: 160,289\n",
      "Non-trainable params: 0\n",
      "_________________________________________________________________\n"
     ]
    }
   ],
   "source": [
    "vocab_size = 10000\n",
    "\n",
    "model = keras.Sequential()\n",
    "model.add(keras.layers.Embedding(vocab_size, 16, input_shape=(None,)))\n",
    "model.add(keras.layers.GlobalAveragePooling1D())\n",
    "model.add(keras.layers.Dense(16, activation='relu'))\n",
    "model.add(keras.layers.Dense(1, activation='sigmoid'))\n",
    "\n",
    "model.summary()"
   ]
  },
  {
   "cell_type": "code",
   "execution_count": 35,
   "metadata": {},
   "outputs": [],
   "source": [
    "model.compile(optimizer='adam',\n",
    "             loss='binary_crossentropy',\n",
    "             metrics=['accuracy'])"
   ]
  },
  {
   "cell_type": "code",
   "execution_count": 42,
   "metadata": {},
   "outputs": [],
   "source": [
    "x_val = train_data[:10000]\n",
    "partial_x_train = train_data[10000:]\n",
    "\n",
    "y_val = train_labels[:10000]\n",
    "partial_y_train = train_labels[10000:]"
   ]
  },
  {
   "cell_type": "code",
   "execution_count": 43,
   "metadata": {},
   "outputs": [
    {
     "name": "stdout",
     "output_type": "stream",
     "text": [
      "Epoch 1/40\n",
      "30/30 [==============================] - 0s 15ms/step - loss: 0.6917 - accuracy: 0.5657 - val_loss: 0.6893 - val_accuracy: 0.6909\n",
      "Epoch 2/40\n",
      "30/30 [==============================] - 0s 12ms/step - loss: 0.6852 - accuracy: 0.7209 - val_loss: 0.6800 - val_accuracy: 0.7323\n",
      "Epoch 3/40\n",
      "30/30 [==============================] - 0s 12ms/step - loss: 0.6708 - accuracy: 0.7627 - val_loss: 0.6619 - val_accuracy: 0.7408\n",
      "Epoch 4/40\n",
      "30/30 [==============================] - 0s 12ms/step - loss: 0.6457 - accuracy: 0.7819 - val_loss: 0.6335 - val_accuracy: 0.7566\n",
      "Epoch 5/40\n",
      "30/30 [==============================] - 0s 12ms/step - loss: 0.6096 - accuracy: 0.7997 - val_loss: 0.5960 - val_accuracy: 0.7878\n",
      "Epoch 6/40\n",
      "30/30 [==============================] - 0s 12ms/step - loss: 0.5649 - accuracy: 0.8219 - val_loss: 0.5526 - val_accuracy: 0.8097\n",
      "Epoch 7/40\n",
      "30/30 [==============================] - 0s 12ms/step - loss: 0.5163 - accuracy: 0.8377 - val_loss: 0.5086 - val_accuracy: 0.8219\n",
      "Epoch 8/40\n",
      "30/30 [==============================] - 0s 12ms/step - loss: 0.4684 - accuracy: 0.8533 - val_loss: 0.4677 - val_accuracy: 0.8362\n",
      "Epoch 9/40\n",
      "30/30 [==============================] - 0s 12ms/step - loss: 0.4250 - accuracy: 0.8665 - val_loss: 0.4322 - val_accuracy: 0.8459\n",
      "Epoch 10/40\n",
      "30/30 [==============================] - 0s 12ms/step - loss: 0.3874 - accuracy: 0.8768 - val_loss: 0.4026 - val_accuracy: 0.8539\n",
      "Epoch 11/40\n",
      "30/30 [==============================] - 0s 12ms/step - loss: 0.3553 - accuracy: 0.8849 - val_loss: 0.3791 - val_accuracy: 0.8613\n",
      "Epoch 12/40\n",
      "30/30 [==============================] - 0s 12ms/step - loss: 0.3287 - accuracy: 0.8924 - val_loss: 0.3598 - val_accuracy: 0.8656\n",
      "Epoch 13/40\n",
      "30/30 [==============================] - 0s 12ms/step - loss: 0.3060 - accuracy: 0.8989 - val_loss: 0.3443 - val_accuracy: 0.8683\n",
      "Epoch 14/40\n",
      "30/30 [==============================] - 0s 12ms/step - loss: 0.2865 - accuracy: 0.9033 - val_loss: 0.3320 - val_accuracy: 0.8726\n",
      "Epoch 15/40\n",
      "30/30 [==============================] - 0s 12ms/step - loss: 0.2694 - accuracy: 0.9072 - val_loss: 0.3217 - val_accuracy: 0.8744\n",
      "Epoch 16/40\n",
      "30/30 [==============================] - 0s 12ms/step - loss: 0.2544 - accuracy: 0.9122 - val_loss: 0.3134 - val_accuracy: 0.8776\n",
      "Epoch 17/40\n",
      "30/30 [==============================] - 0s 12ms/step - loss: 0.2405 - accuracy: 0.9168 - val_loss: 0.3065 - val_accuracy: 0.8800\n",
      "Epoch 18/40\n",
      "30/30 [==============================] - 0s 12ms/step - loss: 0.2282 - accuracy: 0.9221 - val_loss: 0.3012 - val_accuracy: 0.8808\n",
      "Epoch 19/40\n",
      "30/30 [==============================] - 0s 12ms/step - loss: 0.2174 - accuracy: 0.9252 - val_loss: 0.2977 - val_accuracy: 0.8813\n",
      "Epoch 20/40\n",
      "30/30 [==============================] - 0s 12ms/step - loss: 0.2072 - accuracy: 0.9289 - val_loss: 0.2930 - val_accuracy: 0.8834\n",
      "Epoch 21/40\n",
      "30/30 [==============================] - 0s 12ms/step - loss: 0.1973 - accuracy: 0.9330 - val_loss: 0.2904 - val_accuracy: 0.8838\n",
      "Epoch 22/40\n",
      "30/30 [==============================] - 0s 12ms/step - loss: 0.1883 - accuracy: 0.9371 - val_loss: 0.2879 - val_accuracy: 0.8846\n",
      "Epoch 23/40\n",
      "30/30 [==============================] - 0s 12ms/step - loss: 0.1800 - accuracy: 0.9415 - val_loss: 0.2869 - val_accuracy: 0.8836\n",
      "Epoch 24/40\n",
      "30/30 [==============================] - 0s 12ms/step - loss: 0.1721 - accuracy: 0.9446 - val_loss: 0.2861 - val_accuracy: 0.8845\n",
      "Epoch 25/40\n",
      "30/30 [==============================] - 0s 12ms/step - loss: 0.1655 - accuracy: 0.9485 - val_loss: 0.2845 - val_accuracy: 0.8854\n",
      "Epoch 26/40\n",
      "30/30 [==============================] - 0s 12ms/step - loss: 0.1582 - accuracy: 0.9518 - val_loss: 0.2844 - val_accuracy: 0.8860\n",
      "Epoch 27/40\n",
      "30/30 [==============================] - 0s 12ms/step - loss: 0.1513 - accuracy: 0.9532 - val_loss: 0.2846 - val_accuracy: 0.8867\n",
      "Epoch 28/40\n",
      "30/30 [==============================] - 0s 12ms/step - loss: 0.1455 - accuracy: 0.9569 - val_loss: 0.2857 - val_accuracy: 0.8856\n",
      "Epoch 29/40\n",
      "30/30 [==============================] - 0s 12ms/step - loss: 0.1395 - accuracy: 0.9586 - val_loss: 0.2875 - val_accuracy: 0.8846\n",
      "Epoch 30/40\n",
      "30/30 [==============================] - 0s 12ms/step - loss: 0.1344 - accuracy: 0.9609 - val_loss: 0.2875 - val_accuracy: 0.8853\n",
      "Epoch 31/40\n",
      "30/30 [==============================] - 0s 12ms/step - loss: 0.1289 - accuracy: 0.9627 - val_loss: 0.2900 - val_accuracy: 0.8843\n",
      "Epoch 32/40\n",
      "30/30 [==============================] - 0s 12ms/step - loss: 0.1240 - accuracy: 0.9648 - val_loss: 0.2904 - val_accuracy: 0.8847\n",
      "Epoch 33/40\n",
      "30/30 [==============================] - 0s 12ms/step - loss: 0.1193 - accuracy: 0.9663 - val_loss: 0.2922 - val_accuracy: 0.8865\n",
      "Epoch 34/40\n",
      "30/30 [==============================] - 0s 12ms/step - loss: 0.1145 - accuracy: 0.9680 - val_loss: 0.2962 - val_accuracy: 0.8856\n",
      "Epoch 35/40\n",
      "30/30 [==============================] - 0s 12ms/step - loss: 0.1101 - accuracy: 0.9704 - val_loss: 0.2969 - val_accuracy: 0.8847\n",
      "Epoch 36/40\n",
      "30/30 [==============================] - 0s 12ms/step - loss: 0.1058 - accuracy: 0.9715 - val_loss: 0.3003 - val_accuracy: 0.8830\n",
      "Epoch 37/40\n",
      "30/30 [==============================] - 0s 12ms/step - loss: 0.1017 - accuracy: 0.9727 - val_loss: 0.3021 - val_accuracy: 0.8835\n",
      "Epoch 38/40\n",
      "30/30 [==============================] - 0s 12ms/step - loss: 0.0981 - accuracy: 0.9745 - val_loss: 0.3053 - val_accuracy: 0.8832\n",
      "Epoch 39/40\n",
      "30/30 [==============================] - 0s 12ms/step - loss: 0.0951 - accuracy: 0.9754 - val_loss: 0.3107 - val_accuracy: 0.8801\n",
      "Epoch 40/40\n",
      "30/30 [==============================] - 0s 12ms/step - loss: 0.0913 - accuracy: 0.9773 - val_loss: 0.3123 - val_accuracy: 0.8811\n"
     ]
    }
   ],
   "source": [
    "history = model.fit(partial_x_train,\n",
    "                   partial_y_train,\n",
    "                   epochs=40,\n",
    "                   batch_size=512,\n",
    "                   validation_data = (x_val, y_val),\n",
    "                   verbose=1)"
   ]
  },
  {
   "cell_type": "code",
   "execution_count": 44,
   "metadata": {
    "scrolled": true
   },
   "outputs": [
    {
     "name": "stdout",
     "output_type": "stream",
     "text": [
      "782/782 - 0s - loss: 0.3318 - accuracy: 0.8726\n",
      "[0.33177122473716736, 0.8726000189781189]\n"
     ]
    }
   ],
   "source": [
    "results = model.evaluate(test_data, test_labels, verbose=2)\n",
    "print(results)"
   ]
  },
  {
   "cell_type": "code",
   "execution_count": null,
   "metadata": {},
   "outputs": [],
   "source": []
  }
 ],
 "metadata": {
  "kernelspec": {
   "display_name": "Python 3",
   "language": "python",
   "name": "python3"
  },
  "language_info": {
   "codemirror_mode": {
    "name": "ipython",
    "version": 3
   },
   "file_extension": ".py",
   "mimetype": "text/x-python",
   "name": "python",
   "nbconvert_exporter": "python",
   "pygments_lexer": "ipython3",
   "version": "3.8.3"
  }
 },
 "nbformat": 4,
 "nbformat_minor": 4
}
