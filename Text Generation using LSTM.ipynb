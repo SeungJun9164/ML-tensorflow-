{
 "cells": [
  {
   "cell_type": "code",
   "execution_count": 1,
   "metadata": {},
   "outputs": [],
   "source": [
    "import pandas as pd\n",
    "from string import punctuation\n",
    "from tensorflow.keras.preprocessing.text import Tokenizer\n",
    "from tensorflow.keras.preprocessing.sequence import pad_sequences\n",
    "import numpy as np\n",
    "from tensorflow.keras.utils import to_categorical"
   ]
  },
  {
   "cell_type": "code",
   "execution_count": 3,
   "metadata": {},
   "outputs": [
    {
     "data": {
      "text/html": [
       "<div>\n",
       "<style scoped>\n",
       "    .dataframe tbody tr th:only-of-type {\n",
       "        vertical-align: middle;\n",
       "    }\n",
       "\n",
       "    .dataframe tbody tr th {\n",
       "        vertical-align: top;\n",
       "    }\n",
       "\n",
       "    .dataframe thead th {\n",
       "        text-align: right;\n",
       "    }\n",
       "</style>\n",
       "<table border=\"1\" class=\"dataframe\">\n",
       "  <thead>\n",
       "    <tr style=\"text-align: right;\">\n",
       "      <th></th>\n",
       "      <th>articleID</th>\n",
       "      <th>articleWordCount</th>\n",
       "      <th>byline</th>\n",
       "      <th>documentType</th>\n",
       "      <th>headline</th>\n",
       "      <th>keywords</th>\n",
       "      <th>multimedia</th>\n",
       "      <th>newDesk</th>\n",
       "      <th>printPage</th>\n",
       "      <th>pubDate</th>\n",
       "      <th>sectionName</th>\n",
       "      <th>snippet</th>\n",
       "      <th>source</th>\n",
       "      <th>typeOfMaterial</th>\n",
       "      <th>webURL</th>\n",
       "    </tr>\n",
       "  </thead>\n",
       "  <tbody>\n",
       "    <tr>\n",
       "      <th>0</th>\n",
       "      <td>5adf6684068401528a2aa69b</td>\n",
       "      <td>781</td>\n",
       "      <td>By JOHN BRANCH</td>\n",
       "      <td>article</td>\n",
       "      <td>Former N.F.L. Cheerleaders’ Settlement Offer: ...</td>\n",
       "      <td>['Workplace Hazards and Violations', 'Football...</td>\n",
       "      <td>68</td>\n",
       "      <td>Sports</td>\n",
       "      <td>0</td>\n",
       "      <td>2018-04-24 17:16:49</td>\n",
       "      <td>Pro Football</td>\n",
       "      <td>“I understand that they could meet with us, pa...</td>\n",
       "      <td>The New York Times</td>\n",
       "      <td>News</td>\n",
       "      <td>https://www.nytimes.com/2018/04/24/sports/foot...</td>\n",
       "    </tr>\n",
       "    <tr>\n",
       "      <th>1</th>\n",
       "      <td>5adf653f068401528a2aa697</td>\n",
       "      <td>656</td>\n",
       "      <td>By LISA FRIEDMAN</td>\n",
       "      <td>article</td>\n",
       "      <td>E.P.A. to Unveil a New Rule. Its Effect: Less ...</td>\n",
       "      <td>['Environmental Protection Agency', 'Pruitt, S...</td>\n",
       "      <td>68</td>\n",
       "      <td>Climate</td>\n",
       "      <td>0</td>\n",
       "      <td>2018-04-24 17:11:21</td>\n",
       "      <td>Unknown</td>\n",
       "      <td>The agency plans to publish a new regulation T...</td>\n",
       "      <td>The New York Times</td>\n",
       "      <td>News</td>\n",
       "      <td>https://www.nytimes.com/2018/04/24/climate/epa...</td>\n",
       "    </tr>\n",
       "    <tr>\n",
       "      <th>2</th>\n",
       "      <td>5adf4626068401528a2aa628</td>\n",
       "      <td>2427</td>\n",
       "      <td>By PETE WELLS</td>\n",
       "      <td>article</td>\n",
       "      <td>The New Noma, Explained</td>\n",
       "      <td>['Restaurants', 'Noma (Copenhagen, Restaurant)...</td>\n",
       "      <td>66</td>\n",
       "      <td>Dining</td>\n",
       "      <td>0</td>\n",
       "      <td>2018-04-24 14:58:44</td>\n",
       "      <td>Unknown</td>\n",
       "      <td>What’s it like to eat at the second incarnatio...</td>\n",
       "      <td>The New York Times</td>\n",
       "      <td>News</td>\n",
       "      <td>https://www.nytimes.com/2018/04/24/dining/noma...</td>\n",
       "    </tr>\n",
       "    <tr>\n",
       "      <th>3</th>\n",
       "      <td>5adf40d2068401528a2aa619</td>\n",
       "      <td>626</td>\n",
       "      <td>By JULIE HIRSCHFELD DAVIS and PETER BAKER</td>\n",
       "      <td>article</td>\n",
       "      <td>Unknown</td>\n",
       "      <td>['Macron, Emmanuel (1977- )', 'Trump, Donald J...</td>\n",
       "      <td>68</td>\n",
       "      <td>Washington</td>\n",
       "      <td>0</td>\n",
       "      <td>2018-04-24 14:35:57</td>\n",
       "      <td>Europe</td>\n",
       "      <td>President Trump welcomed President Emmanuel Ma...</td>\n",
       "      <td>The New York Times</td>\n",
       "      <td>News</td>\n",
       "      <td>https://www.nytimes.com/2018/04/24/world/europ...</td>\n",
       "    </tr>\n",
       "    <tr>\n",
       "      <th>4</th>\n",
       "      <td>5adf3d64068401528a2aa60f</td>\n",
       "      <td>815</td>\n",
       "      <td>By IAN AUSTEN and DAN BILEFSKY</td>\n",
       "      <td>article</td>\n",
       "      <td>Unknown</td>\n",
       "      <td>['Toronto, Ontario, Attack (April, 2018)', 'Mu...</td>\n",
       "      <td>68</td>\n",
       "      <td>Foreign</td>\n",
       "      <td>0</td>\n",
       "      <td>2018-04-24 14:21:21</td>\n",
       "      <td>Canada</td>\n",
       "      <td>Alek Minassian, 25, a resident of Toronto’s Ri...</td>\n",
       "      <td>The New York Times</td>\n",
       "      <td>News</td>\n",
       "      <td>https://www.nytimes.com/2018/04/24/world/canad...</td>\n",
       "    </tr>\n",
       "  </tbody>\n",
       "</table>\n",
       "</div>"
      ],
      "text/plain": [
       "                  articleID  articleWordCount  \\\n",
       "0  5adf6684068401528a2aa69b               781   \n",
       "1  5adf653f068401528a2aa697               656   \n",
       "2  5adf4626068401528a2aa628              2427   \n",
       "3  5adf40d2068401528a2aa619               626   \n",
       "4  5adf3d64068401528a2aa60f               815   \n",
       "\n",
       "                                      byline documentType  \\\n",
       "0                             By JOHN BRANCH      article   \n",
       "1                           By LISA FRIEDMAN      article   \n",
       "2                              By PETE WELLS      article   \n",
       "3  By JULIE HIRSCHFELD DAVIS and PETER BAKER      article   \n",
       "4             By IAN AUSTEN and DAN BILEFSKY      article   \n",
       "\n",
       "                                            headline  \\\n",
       "0  Former N.F.L. Cheerleaders’ Settlement Offer: ...   \n",
       "1  E.P.A. to Unveil a New Rule. Its Effect: Less ...   \n",
       "2                            The New Noma, Explained   \n",
       "3                                            Unknown   \n",
       "4                                            Unknown   \n",
       "\n",
       "                                            keywords  multimedia     newDesk  \\\n",
       "0  ['Workplace Hazards and Violations', 'Football...          68      Sports   \n",
       "1  ['Environmental Protection Agency', 'Pruitt, S...          68     Climate   \n",
       "2  ['Restaurants', 'Noma (Copenhagen, Restaurant)...          66      Dining   \n",
       "3  ['Macron, Emmanuel (1977- )', 'Trump, Donald J...          68  Washington   \n",
       "4  ['Toronto, Ontario, Attack (April, 2018)', 'Mu...          68     Foreign   \n",
       "\n",
       "   printPage              pubDate   sectionName  \\\n",
       "0          0  2018-04-24 17:16:49  Pro Football   \n",
       "1          0  2018-04-24 17:11:21       Unknown   \n",
       "2          0  2018-04-24 14:58:44       Unknown   \n",
       "3          0  2018-04-24 14:35:57        Europe   \n",
       "4          0  2018-04-24 14:21:21        Canada   \n",
       "\n",
       "                                             snippet              source  \\\n",
       "0  “I understand that they could meet with us, pa...  The New York Times   \n",
       "1  The agency plans to publish a new regulation T...  The New York Times   \n",
       "2  What’s it like to eat at the second incarnatio...  The New York Times   \n",
       "3  President Trump welcomed President Emmanuel Ma...  The New York Times   \n",
       "4  Alek Minassian, 25, a resident of Toronto’s Ri...  The New York Times   \n",
       "\n",
       "  typeOfMaterial                                             webURL  \n",
       "0           News  https://www.nytimes.com/2018/04/24/sports/foot...  \n",
       "1           News  https://www.nytimes.com/2018/04/24/climate/epa...  \n",
       "2           News  https://www.nytimes.com/2018/04/24/dining/noma...  \n",
       "3           News  https://www.nytimes.com/2018/04/24/world/europ...  \n",
       "4           News  https://www.nytimes.com/2018/04/24/world/canad...  "
      ]
     },
     "execution_count": 3,
     "metadata": {},
     "output_type": "execute_result"
    }
   ],
   "source": [
    "df = pd.read_csv('ArticlesApril2018.csv')\n",
    "df.head()"
   ]
  },
  {
   "cell_type": "code",
   "execution_count": 4,
   "metadata": {},
   "outputs": [
    {
     "name": "stdout",
     "output_type": "stream",
     "text": [
      "열의 갯수 :  15\n",
      "Index(['articleID', 'articleWordCount', 'byline', 'documentType', 'headline',\n",
      "       'keywords', 'multimedia', 'newDesk', 'printPage', 'pubDate',\n",
      "       'sectionName', 'snippet', 'source', 'typeOfMaterial', 'webURL'],\n",
      "      dtype='object')\n"
     ]
    }
   ],
   "source": [
    "print('열의 갯수 : ', len(df.columns))\n",
    "print(df.columns)"
   ]
  },
  {
   "cell_type": "code",
   "execution_count": 5,
   "metadata": {},
   "outputs": [
    {
     "data": {
      "text/plain": [
       "0"
      ]
     },
     "execution_count": 5,
     "metadata": {},
     "output_type": "execute_result"
    }
   ],
   "source": [
    "df['headline'].isnull().sum()"
   ]
  },
  {
   "cell_type": "code",
   "execution_count": 11,
   "metadata": {},
   "outputs": [
    {
     "data": {
      "text/plain": [
       "['Former N.F.L. Cheerleaders’ Settlement Offer: $1 and a Meeting With Goodell',\n",
       " 'E.P.A. to Unveil a New Rule. Its Effect: Less Science in Policymaking.',\n",
       " 'The New Noma, Explained',\n",
       " 'Unknown',\n",
       " 'Unknown']"
      ]
     },
     "execution_count": 11,
     "metadata": {},
     "output_type": "execute_result"
    }
   ],
   "source": [
    "headline = []\n",
    "headline.extend(list(df.headline.values))\n",
    "headline[:5]"
   ]
  },
  {
   "cell_type": "code",
   "execution_count": 14,
   "metadata": {},
   "outputs": [
    {
     "name": "stdout",
     "output_type": "stream",
     "text": [
      "총 샘플의 수 :  1324\n"
     ]
    }
   ],
   "source": [
    "print('총 샘플의 수 : ', len(headline))"
   ]
  },
  {
   "cell_type": "code",
   "execution_count": 15,
   "metadata": {},
   "outputs": [
    {
     "name": "stdout",
     "output_type": "stream",
     "text": [
      "노이즈 값 제거 후 샘플의 갯수 :  1214\n"
     ]
    }
   ],
   "source": [
    "headline = [n for n in headline if n != \"Unknown\"]\n",
    "print('노이즈 값 제거 후 샘플의 갯수 : ', len(headline))"
   ]
  },
  {
   "cell_type": "code",
   "execution_count": 16,
   "metadata": {},
   "outputs": [
    {
     "data": {
      "text/plain": [
       "['Former N.F.L. Cheerleaders’ Settlement Offer: $1 and a Meeting With Goodell',\n",
       " 'E.P.A. to Unveil a New Rule. Its Effect: Less Science in Policymaking.',\n",
       " 'The New Noma, Explained',\n",
       " 'How a Bag of Texas Dirt  Became a Times Tradition',\n",
       " 'Is School a Place for Self-Expression?']"
      ]
     },
     "execution_count": 16,
     "metadata": {},
     "output_type": "execute_result"
    }
   ],
   "source": [
    "headline[:5]"
   ]
  },
  {
   "cell_type": "code",
   "execution_count": 19,
   "metadata": {},
   "outputs": [
    {
     "data": {
      "text/plain": [
       "['former nfl cheerleaders settlement offer 1 and a meeting with goodell',\n",
       " 'epa to unveil a new rule its effect less science in policymaking',\n",
       " 'the new noma explained',\n",
       " 'how a bag of texas dirt  became a times tradition',\n",
       " 'is school a place for selfexpression']"
      ]
     },
     "execution_count": 19,
     "metadata": {},
     "output_type": "execute_result"
    }
   ],
   "source": [
    "def repreprocessing(s):\n",
    "    s = s.encode(\"utf8\").decode(\"ascii\", 'ignore') # 유니코드를 아스키코드로 변환\n",
    "    return ''.join(c for c in s if c not in punctuation).lower() # punctuation : 구두점 제거\n",
    "    # join : 리스트에서 문자열로 변환\n",
    "text = [repreprocessing(x) for x in headline]\n",
    "text[:5]"
   ]
  },
  {
   "cell_type": "code",
   "execution_count": 20,
   "metadata": {},
   "outputs": [
    {
     "name": "stdout",
     "output_type": "stream",
     "text": [
      "단어 집합의 크기 : 3494\n"
     ]
    }
   ],
   "source": [
    "t = Tokenizer()\n",
    "t.fit_on_texts(text)\n",
    "vocab_size = len(t.word_index) + 1\n",
    "print('단어 집합의 크기 : %d' % vocab_size)"
   ]
  },
  {
   "cell_type": "code",
   "execution_count": 23,
   "metadata": {},
   "outputs": [
    {
     "data": {
      "text/plain": [
       "[[99, 269],\n",
       " [99, 269, 371],\n",
       " [99, 269, 371, 1115],\n",
       " [99, 269, 371, 1115, 582],\n",
       " [99, 269, 371, 1115, 582, 52],\n",
       " [99, 269, 371, 1115, 582, 52, 7],\n",
       " [99, 269, 371, 1115, 582, 52, 7, 2],\n",
       " [99, 269, 371, 1115, 582, 52, 7, 2, 372],\n",
       " [99, 269, 371, 1115, 582, 52, 7, 2, 372, 10],\n",
       " [99, 269, 371, 1115, 582, 52, 7, 2, 372, 10, 1116],\n",
       " [100, 3]]"
      ]
     },
     "execution_count": 23,
     "metadata": {},
     "output_type": "execute_result"
    }
   ],
   "source": [
    "sequences = []\n",
    "for line in text:\n",
    "    encoded = t.texts_to_sequences([line])[0]\n",
    "    for i in range(1, len(encoded)):\n",
    "        sequence = encoded[:i+1]\n",
    "        sequences.append(sequence)\n",
    "        \n",
    "sequences[:11]"
   ]
  },
  {
   "cell_type": "code",
   "execution_count": 24,
   "metadata": {},
   "outputs": [
    {
     "name": "stdout",
     "output_type": "stream",
     "text": [
      "빈도수 상위 582번 단어 : offer\n"
     ]
    }
   ],
   "source": [
    "index_to_word={}\n",
    "for key, value in t.word_index.items():\n",
    "    index_to_word[value] = key\n",
    "print('빈도수 상위 582번 단어 : {}'.format(index_to_word[582]))"
   ]
  },
  {
   "cell_type": "code",
   "execution_count": 25,
   "metadata": {},
   "outputs": [
    {
     "name": "stdout",
     "output_type": "stream",
     "text": [
      "샘플의 최대 길이 : 24\n"
     ]
    }
   ],
   "source": [
    "max_len = max(len(l) for l in sequences)\n",
    "print('샘플의 최대 길이 : {}'.format(max_len))"
   ]
  },
  {
   "cell_type": "code",
   "execution_count": 26,
   "metadata": {},
   "outputs": [
    {
     "name": "stdout",
     "output_type": "stream",
     "text": [
      "[[   0    0    0 ...    0   99  269]\n",
      " [   0    0    0 ...   99  269  371]\n",
      " [   0    0    0 ...  269  371 1115]\n",
      " ...\n",
      " [   0    0    0 ...    8 3493  115]\n",
      " [   0    0    0 ... 3493  115    2]\n",
      " [   0    0    0 ...  115    2 1025]]\n"
     ]
    }
   ],
   "source": [
    "sequences = pad_sequences(sequences, maxlen=max_len)\n",
    "print(sequences)"
   ]
  },
  {
   "cell_type": "code",
   "execution_count": 27,
   "metadata": {},
   "outputs": [],
   "source": [
    "sequecnces = np.array(sequences)\n",
    "X = sequences[:,:-1]\n",
    "y = sequences[:,-1]"
   ]
  },
  {
   "cell_type": "code",
   "execution_count": 28,
   "metadata": {},
   "outputs": [
    {
     "name": "stdout",
     "output_type": "stream",
     "text": [
      "[[  0   0   0   0   0   0   0   0   0   0   0   0   0   0   0   0   0   0\n",
      "    0   0   0   0  99]\n",
      " [  0   0   0   0   0   0   0   0   0   0   0   0   0   0   0   0   0   0\n",
      "    0   0   0  99 269]\n",
      " [  0   0   0   0   0   0   0   0   0   0   0   0   0   0   0   0   0   0\n",
      "    0   0  99 269 371]]\n"
     ]
    }
   ],
   "source": [
    "print(X[:3])"
   ]
  },
  {
   "cell_type": "code",
   "execution_count": 29,
   "metadata": {},
   "outputs": [],
   "source": [
    "y = to_categorical(y, vocab_size)"
   ]
  },
  {
   "cell_type": "code",
   "execution_count": 30,
   "metadata": {},
   "outputs": [],
   "source": [
    "from tensorflow.keras.models import Sequential\n",
    "from tensorflow.keras.layers import Embedding, Dense, LSTM"
   ]
  },
  {
   "cell_type": "code",
   "execution_count": 31,
   "metadata": {},
   "outputs": [
    {
     "name": "stdout",
     "output_type": "stream",
     "text": [
      "Epoch 1/200\n",
      "244/244 - 2s - loss: 7.6300 - accuracy: 0.0259\n",
      "Epoch 2/200\n",
      "244/244 - 2s - loss: 7.1096 - accuracy: 0.0299\n",
      "Epoch 3/200\n",
      "244/244 - 2s - loss: 6.9724 - accuracy: 0.0361\n",
      "Epoch 4/200\n",
      "244/244 - 2s - loss: 6.8442 - accuracy: 0.0368\n",
      "Epoch 5/200\n",
      "244/244 - 2s - loss: 6.6941 - accuracy: 0.0437\n",
      "Epoch 6/200\n",
      "244/244 - 2s - loss: 6.5247 - accuracy: 0.0470\n",
      "Epoch 7/200\n",
      "244/244 - 2s - loss: 6.3348 - accuracy: 0.0506\n",
      "Epoch 8/200\n",
      "244/244 - 2s - loss: 6.1399 - accuracy: 0.0564\n",
      "Epoch 9/200\n",
      "244/244 - 2s - loss: 5.9513 - accuracy: 0.0611\n",
      "Epoch 10/200\n",
      "244/244 - 2s - loss: 5.7749 - accuracy: 0.0646\n",
      "Epoch 11/200\n",
      "244/244 - 2s - loss: 5.6087 - accuracy: 0.0698\n",
      "Epoch 12/200\n",
      "244/244 - 2s - loss: 5.4510 - accuracy: 0.0709\n",
      "Epoch 13/200\n",
      "244/244 - 2s - loss: 5.3049 - accuracy: 0.0777\n",
      "Epoch 14/200\n",
      "244/244 - 2s - loss: 5.1582 - accuracy: 0.0847\n",
      "Epoch 15/200\n",
      "244/244 - 2s - loss: 5.0218 - accuracy: 0.0895\n",
      "Epoch 16/200\n",
      "244/244 - 2s - loss: 4.8869 - accuracy: 0.1000\n",
      "Epoch 17/200\n",
      "244/244 - 2s - loss: 4.7594 - accuracy: 0.1110\n",
      "Epoch 18/200\n",
      "244/244 - 2s - loss: 4.6364 - accuracy: 0.1202\n",
      "Epoch 19/200\n",
      "244/244 - 2s - loss: 4.5129 - accuracy: 0.1346\n",
      "Epoch 20/200\n",
      "244/244 - 2s - loss: 4.3954 - accuracy: 0.1507\n",
      "Epoch 21/200\n",
      "244/244 - 2s - loss: 4.2815 - accuracy: 0.1587\n",
      "Epoch 22/200\n",
      "244/244 - 2s - loss: 4.1710 - accuracy: 0.1813\n",
      "Epoch 23/200\n",
      "244/244 - 2s - loss: 4.0631 - accuracy: 0.1954\n",
      "Epoch 24/200\n",
      "244/244 - 2s - loss: 3.9576 - accuracy: 0.2099\n",
      "Epoch 25/200\n",
      "244/244 - 2s - loss: 3.8528 - accuracy: 0.2277\n",
      "Epoch 26/200\n",
      "244/244 - 2s - loss: 3.7566 - accuracy: 0.2489\n",
      "Epoch 27/200\n",
      "244/244 - 2s - loss: 3.6587 - accuracy: 0.2664\n",
      "Epoch 28/200\n",
      "244/244 - 2s - loss: 3.5660 - accuracy: 0.2825\n",
      "Epoch 29/200\n",
      "244/244 - 2s - loss: 3.4768 - accuracy: 0.2989\n",
      "Epoch 30/200\n",
      "244/244 - 2s - loss: 3.3871 - accuracy: 0.3141\n",
      "Epoch 31/200\n",
      "244/244 - 2s - loss: 3.3034 - accuracy: 0.3299\n",
      "Epoch 32/200\n",
      "244/244 - 2s - loss: 3.2225 - accuracy: 0.3444\n",
      "Epoch 33/200\n",
      "244/244 - 2s - loss: 3.1421 - accuracy: 0.3523\n",
      "Epoch 34/200\n",
      "244/244 - 2s - loss: 3.0648 - accuracy: 0.3723\n",
      "Epoch 35/200\n",
      "244/244 - 2s - loss: 2.9899 - accuracy: 0.3832\n",
      "Epoch 36/200\n",
      "244/244 - 2s - loss: 2.9196 - accuracy: 0.4031\n",
      "Epoch 37/200\n",
      "244/244 - 2s - loss: 2.8499 - accuracy: 0.4164\n",
      "Epoch 38/200\n",
      "244/244 - 2s - loss: 2.7824 - accuracy: 0.4257\n",
      "Epoch 39/200\n",
      "244/244 - 2s - loss: 2.7170 - accuracy: 0.4444\n",
      "Epoch 40/200\n",
      "244/244 - 2s - loss: 2.6572 - accuracy: 0.4514\n",
      "Epoch 41/200\n",
      "244/244 - 3s - loss: 2.5941 - accuracy: 0.4665\n",
      "Epoch 42/200\n",
      "244/244 - 3s - loss: 2.5364 - accuracy: 0.4784\n",
      "Epoch 43/200\n",
      "244/244 - 2s - loss: 2.4778 - accuracy: 0.4902\n",
      "Epoch 44/200\n",
      "244/244 - 2s - loss: 2.4220 - accuracy: 0.5037\n",
      "Epoch 45/200\n",
      "244/244 - 3s - loss: 2.3668 - accuracy: 0.5124\n",
      "Epoch 46/200\n",
      "244/244 - 3s - loss: 2.3126 - accuracy: 0.5234\n",
      "Epoch 47/200\n",
      "244/244 - 2s - loss: 2.2600 - accuracy: 0.5343\n",
      "Epoch 48/200\n",
      "244/244 - 2s - loss: 2.2113 - accuracy: 0.5431\n",
      "Epoch 49/200\n",
      "244/244 - 2s - loss: 2.1615 - accuracy: 0.5549\n",
      "Epoch 50/200\n",
      "244/244 - 2s - loss: 2.1095 - accuracy: 0.5668\n",
      "Epoch 51/200\n",
      "244/244 - 2s - loss: 2.0658 - accuracy: 0.5761\n",
      "Epoch 52/200\n",
      "244/244 - 3s - loss: 2.0213 - accuracy: 0.5854\n",
      "Epoch 53/200\n",
      "244/244 - 3s - loss: 1.9773 - accuracy: 0.5976\n",
      "Epoch 54/200\n",
      "244/244 - 2s - loss: 1.9335 - accuracy: 0.6026\n",
      "Epoch 55/200\n",
      "244/244 - 2s - loss: 1.8911 - accuracy: 0.6137\n",
      "Epoch 56/200\n",
      "244/244 - 2s - loss: 1.8480 - accuracy: 0.6248\n",
      "Epoch 57/200\n",
      "244/244 - 2s - loss: 1.8085 - accuracy: 0.6382\n",
      "Epoch 58/200\n",
      "244/244 - 2s - loss: 1.7710 - accuracy: 0.6423\n",
      "Epoch 59/200\n",
      "244/244 - 2s - loss: 1.7312 - accuracy: 0.6517\n",
      "Epoch 60/200\n",
      "244/244 - 2s - loss: 1.6943 - accuracy: 0.6603\n",
      "Epoch 61/200\n",
      "244/244 - 2s - loss: 1.6568 - accuracy: 0.6676\n",
      "Epoch 62/200\n",
      "244/244 - 2s - loss: 1.6194 - accuracy: 0.6765\n",
      "Epoch 63/200\n",
      "244/244 - 2s - loss: 1.5838 - accuracy: 0.6874\n",
      "Epoch 64/200\n",
      "244/244 - 2s - loss: 1.5497 - accuracy: 0.6892\n",
      "Epoch 65/200\n",
      "244/244 - 2s - loss: 1.5163 - accuracy: 0.6968\n",
      "Epoch 66/200\n",
      "244/244 - 2s - loss: 1.4858 - accuracy: 0.7010\n",
      "Epoch 67/200\n",
      "244/244 - 2s - loss: 1.4541 - accuracy: 0.7111\n",
      "Epoch 68/200\n",
      "244/244 - 2s - loss: 1.4232 - accuracy: 0.7193\n",
      "Epoch 69/200\n",
      "244/244 - 2s - loss: 1.3887 - accuracy: 0.7270\n",
      "Epoch 70/200\n",
      "244/244 - 2s - loss: 1.3610 - accuracy: 0.7318\n",
      "Epoch 71/200\n",
      "244/244 - 2s - loss: 1.3300 - accuracy: 0.7395\n",
      "Epoch 72/200\n",
      "244/244 - 2s - loss: 1.3014 - accuracy: 0.7448\n",
      "Epoch 73/200\n",
      "244/244 - 2s - loss: 1.2751 - accuracy: 0.7509\n",
      "Epoch 74/200\n",
      "244/244 - 2s - loss: 1.2457 - accuracy: 0.7524\n",
      "Epoch 75/200\n",
      "244/244 - 2s - loss: 1.2188 - accuracy: 0.7618\n",
      "Epoch 76/200\n",
      "244/244 - 2s - loss: 1.1912 - accuracy: 0.7638\n",
      "Epoch 77/200\n",
      "244/244 - 2s - loss: 1.1677 - accuracy: 0.7734\n",
      "Epoch 78/200\n",
      "244/244 - 3s - loss: 1.1397 - accuracy: 0.7780\n",
      "Epoch 79/200\n",
      "244/244 - 3s - loss: 1.1162 - accuracy: 0.7842\n",
      "Epoch 80/200\n",
      "244/244 - 2s - loss: 1.0922 - accuracy: 0.7843\n",
      "Epoch 81/200\n",
      "244/244 - 2s - loss: 1.0690 - accuracy: 0.7908\n",
      "Epoch 82/200\n",
      "244/244 - 2s - loss: 1.0425 - accuracy: 0.7956\n",
      "Epoch 83/200\n",
      "244/244 - 2s - loss: 1.0207 - accuracy: 0.7982\n",
      "Epoch 84/200\n",
      "244/244 - 2s - loss: 1.0003 - accuracy: 0.8026\n",
      "Epoch 85/200\n",
      "244/244 - 2s - loss: 0.9753 - accuracy: 0.8076\n",
      "Epoch 86/200\n",
      "244/244 - 3s - loss: 0.9565 - accuracy: 0.8112\n",
      "Epoch 87/200\n",
      "244/244 - 2s - loss: 0.9365 - accuracy: 0.8138\n",
      "Epoch 88/200\n",
      "244/244 - 2s - loss: 0.9184 - accuracy: 0.8172\n",
      "Epoch 89/200\n",
      "244/244 - 2s - loss: 0.8996 - accuracy: 0.8199\n",
      "Epoch 90/200\n",
      "244/244 - 2s - loss: 0.8784 - accuracy: 0.8234\n",
      "Epoch 91/200\n",
      "244/244 - 2s - loss: 0.8587 - accuracy: 0.8275\n",
      "Epoch 92/200\n",
      "244/244 - 2s - loss: 0.8405 - accuracy: 0.8334\n",
      "Epoch 93/200\n",
      "244/244 - 2s - loss: 0.8248 - accuracy: 0.8343\n",
      "Epoch 94/200\n",
      "244/244 - 2s - loss: 0.8065 - accuracy: 0.8393\n",
      "Epoch 95/200\n",
      "244/244 - 2s - loss: 0.7881 - accuracy: 0.8425\n",
      "Epoch 96/200\n",
      "244/244 - 3s - loss: 0.7712 - accuracy: 0.8449\n",
      "Epoch 97/200\n",
      "244/244 - 3s - loss: 0.7588 - accuracy: 0.8476\n",
      "Epoch 98/200\n",
      "244/244 - 2s - loss: 0.7435 - accuracy: 0.8508\n",
      "Epoch 99/200\n",
      "244/244 - 3s - loss: 0.7287 - accuracy: 0.8513\n",
      "Epoch 100/200\n",
      "244/244 - 2s - loss: 0.7114 - accuracy: 0.8543\n",
      "Epoch 101/200\n",
      "244/244 - 2s - loss: 0.6967 - accuracy: 0.8570\n",
      "Epoch 102/200\n",
      "244/244 - 2s - loss: 0.6834 - accuracy: 0.8604\n",
      "Epoch 103/200\n",
      "244/244 - 3s - loss: 0.6717 - accuracy: 0.8621\n",
      "Epoch 104/200\n",
      "244/244 - 2s - loss: 0.6556 - accuracy: 0.8670\n",
      "Epoch 105/200\n",
      "244/244 - 2s - loss: 0.6417 - accuracy: 0.8722\n",
      "Epoch 106/200\n",
      "244/244 - 2s - loss: 0.6301 - accuracy: 0.8702\n",
      "Epoch 107/200\n",
      "244/244 - 2s - loss: 0.6198 - accuracy: 0.8754\n",
      "Epoch 108/200\n",
      "244/244 - 2s - loss: 0.6071 - accuracy: 0.8771\n",
      "Epoch 109/200\n",
      "244/244 - 2s - loss: 0.5930 - accuracy: 0.8779\n",
      "Epoch 110/200\n",
      "244/244 - 2s - loss: 0.5813 - accuracy: 0.8802\n",
      "Epoch 111/200\n",
      "244/244 - 2s - loss: 0.5715 - accuracy: 0.8831\n",
      "Epoch 112/200\n",
      "244/244 - 2s - loss: 0.5586 - accuracy: 0.8838\n",
      "Epoch 113/200\n",
      "244/244 - 2s - loss: 0.5501 - accuracy: 0.8854\n",
      "Epoch 114/200\n",
      "244/244 - 2s - loss: 0.5425 - accuracy: 0.8893\n",
      "Epoch 115/200\n",
      "244/244 - 2s - loss: 0.5331 - accuracy: 0.8915\n",
      "Epoch 116/200\n",
      "244/244 - 2s - loss: 0.5179 - accuracy: 0.8936\n",
      "Epoch 117/200\n",
      "244/244 - 2s - loss: 0.5093 - accuracy: 0.8945\n",
      "Epoch 118/200\n",
      "244/244 - 2s - loss: 0.5015 - accuracy: 0.8949\n",
      "Epoch 119/200\n",
      "244/244 - 2s - loss: 0.4904 - accuracy: 0.8981\n",
      "Epoch 120/200\n",
      "244/244 - 2s - loss: 0.4861 - accuracy: 0.8985\n",
      "Epoch 121/200\n",
      "244/244 - 2s - loss: 0.4782 - accuracy: 0.8998\n",
      "Epoch 122/200\n",
      "244/244 - 2s - loss: 0.4680 - accuracy: 0.9012\n",
      "Epoch 123/200\n",
      "244/244 - 3s - loss: 0.4563 - accuracy: 0.9023\n",
      "Epoch 124/200\n",
      "244/244 - 2s - loss: 0.4478 - accuracy: 0.9044\n",
      "Epoch 125/200\n",
      "244/244 - 2s - loss: 0.4444 - accuracy: 0.9041\n",
      "Epoch 126/200\n",
      "244/244 - 2s - loss: 0.4375 - accuracy: 0.9063\n",
      "Epoch 127/200\n",
      "244/244 - 2s - loss: 0.4267 - accuracy: 0.9066\n",
      "Epoch 128/200\n",
      "244/244 - 2s - loss: 0.4212 - accuracy: 0.9088\n",
      "Epoch 129/200\n",
      "244/244 - 2s - loss: 0.4147 - accuracy: 0.9094\n",
      "Epoch 130/200\n",
      "244/244 - 2s - loss: 0.4111 - accuracy: 0.9089\n",
      "Epoch 131/200\n",
      "244/244 - 2s - loss: 0.4041 - accuracy: 0.9114\n",
      "Epoch 132/200\n",
      "244/244 - 2s - loss: 0.3966 - accuracy: 0.9117\n",
      "Epoch 133/200\n",
      "244/244 - 2s - loss: 0.3906 - accuracy: 0.9138\n",
      "Epoch 134/200\n",
      "244/244 - 2s - loss: 0.3880 - accuracy: 0.9126\n",
      "Epoch 135/200\n",
      "244/244 - 2s - loss: 0.3807 - accuracy: 0.9138\n",
      "Epoch 136/200\n",
      "244/244 - 2s - loss: 0.3774 - accuracy: 0.9145\n",
      "Epoch 137/200\n"
     ]
    },
    {
     "name": "stdout",
     "output_type": "stream",
     "text": [
      "244/244 - 2s - loss: 0.3702 - accuracy: 0.9150\n",
      "Epoch 138/200\n",
      "244/244 - 2s - loss: 0.3627 - accuracy: 0.9135\n",
      "Epoch 139/200\n",
      "244/244 - 2s - loss: 0.3599 - accuracy: 0.9141\n",
      "Epoch 140/200\n",
      "244/244 - 2s - loss: 0.3550 - accuracy: 0.9161\n",
      "Epoch 141/200\n",
      "244/244 - 2s - loss: 0.3794 - accuracy: 0.9116\n",
      "Epoch 142/200\n",
      "244/244 - 2s - loss: 0.4007 - accuracy: 0.9072\n",
      "Epoch 143/200\n",
      "244/244 - 2s - loss: 0.3593 - accuracy: 0.9136\n",
      "Epoch 144/200\n",
      "244/244 - 3s - loss: 0.3410 - accuracy: 0.9152\n",
      "Epoch 145/200\n",
      "244/244 - 2s - loss: 0.3355 - accuracy: 0.9150\n",
      "Epoch 146/200\n",
      "244/244 - 2s - loss: 0.3310 - accuracy: 0.9166\n",
      "Epoch 147/200\n",
      "244/244 - 2s - loss: 0.3281 - accuracy: 0.9167\n",
      "Epoch 148/200\n",
      "244/244 - 2s - loss: 0.3248 - accuracy: 0.9172\n",
      "Epoch 149/200\n",
      "244/244 - 3s - loss: 0.3218 - accuracy: 0.9159\n",
      "Epoch 150/200\n",
      "244/244 - 3s - loss: 0.3204 - accuracy: 0.9173\n",
      "Epoch 151/200\n",
      "244/244 - 3s - loss: 0.3166 - accuracy: 0.9158\n",
      "Epoch 152/200\n",
      "244/244 - 2s - loss: 0.3148 - accuracy: 0.9171\n",
      "Epoch 153/200\n",
      "244/244 - 2s - loss: 0.3118 - accuracy: 0.9182\n",
      "Epoch 154/200\n",
      "244/244 - 3s - loss: 0.3109 - accuracy: 0.9171\n",
      "Epoch 155/200\n",
      "244/244 - 2s - loss: 0.3088 - accuracy: 0.9171\n",
      "Epoch 156/200\n",
      "244/244 - 2s - loss: 0.3051 - accuracy: 0.9168\n",
      "Epoch 157/200\n",
      "244/244 - 3s - loss: 0.3063 - accuracy: 0.9170\n",
      "Epoch 158/200\n",
      "244/244 - 2s - loss: 0.3044 - accuracy: 0.9171\n",
      "Epoch 159/200\n",
      "244/244 - 2s - loss: 0.3029 - accuracy: 0.9161\n",
      "Epoch 160/200\n",
      "244/244 - 3s - loss: 0.2972 - accuracy: 0.9176\n",
      "Epoch 161/200\n",
      "244/244 - 3s - loss: 0.2980 - accuracy: 0.9157\n",
      "Epoch 162/200\n",
      "244/244 - 2s - loss: 0.2960 - accuracy: 0.9171\n",
      "Epoch 163/200\n",
      "244/244 - 2s - loss: 0.2945 - accuracy: 0.9164\n",
      "Epoch 164/200\n",
      "244/244 - 2s - loss: 0.2919 - accuracy: 0.9155\n",
      "Epoch 165/200\n",
      "244/244 - 2s - loss: 0.2894 - accuracy: 0.9166\n",
      "Epoch 166/200\n",
      "244/244 - 3s - loss: 0.2870 - accuracy: 0.9177\n",
      "Epoch 167/200\n",
      "244/244 - 2s - loss: 0.2909 - accuracy: 0.9157\n",
      "Epoch 168/200\n",
      "244/244 - 2s - loss: 0.3440 - accuracy: 0.9057\n",
      "Epoch 169/200\n",
      "244/244 - 2s - loss: 0.3009 - accuracy: 0.9170\n",
      "Epoch 170/200\n",
      "244/244 - 2s - loss: 0.2867 - accuracy: 0.9172\n",
      "Epoch 171/200\n",
      "244/244 - 2s - loss: 0.2810 - accuracy: 0.9175\n",
      "Epoch 172/200\n",
      "244/244 - 2s - loss: 0.2800 - accuracy: 0.9162\n",
      "Epoch 173/200\n",
      "244/244 - 3s - loss: 0.2797 - accuracy: 0.9172\n",
      "Epoch 174/200\n",
      "244/244 - 3s - loss: 0.2780 - accuracy: 0.9167\n",
      "Epoch 175/200\n",
      "244/244 - 2s - loss: 0.2771 - accuracy: 0.9176\n",
      "Epoch 176/200\n",
      "244/244 - 2s - loss: 0.2767 - accuracy: 0.9172\n",
      "Epoch 177/200\n",
      "244/244 - 2s - loss: 0.2764 - accuracy: 0.9167\n",
      "Epoch 178/200\n",
      "244/244 - 2s - loss: 0.2758 - accuracy: 0.9159\n",
      "Epoch 179/200\n",
      "244/244 - 2s - loss: 0.2742 - accuracy: 0.9164\n",
      "Epoch 180/200\n",
      "244/244 - 2s - loss: 0.2762 - accuracy: 0.9176\n",
      "Epoch 181/200\n",
      "244/244 - 2s - loss: 0.2774 - accuracy: 0.9164\n",
      "Epoch 182/200\n",
      "244/244 - 2s - loss: 0.2770 - accuracy: 0.9154\n",
      "Epoch 183/200\n",
      "244/244 - 2s - loss: 0.2733 - accuracy: 0.9162\n",
      "Epoch 184/200\n",
      "244/244 - 2s - loss: 0.2714 - accuracy: 0.9166\n",
      "Epoch 185/200\n",
      "244/244 - 2s - loss: 0.2721 - accuracy: 0.9161\n",
      "Epoch 186/200\n",
      "244/244 - 2s - loss: 0.2738 - accuracy: 0.9166\n",
      "Epoch 187/200\n",
      "244/244 - 2s - loss: 0.2869 - accuracy: 0.9136\n",
      "Epoch 188/200\n",
      "244/244 - 2s - loss: 0.3025 - accuracy: 0.9121\n",
      "Epoch 189/200\n",
      "244/244 - 2s - loss: 0.2811 - accuracy: 0.9153\n",
      "Epoch 190/200\n",
      "244/244 - 2s - loss: 0.2709 - accuracy: 0.9157\n",
      "Epoch 191/200\n",
      "244/244 - 2s - loss: 0.2672 - accuracy: 0.9176\n",
      "Epoch 192/200\n",
      "244/244 - 2s - loss: 0.2669 - accuracy: 0.9177\n",
      "Epoch 193/200\n",
      "244/244 - 2s - loss: 0.2662 - accuracy: 0.9168\n",
      "Epoch 194/200\n",
      "244/244 - 2s - loss: 0.2669 - accuracy: 0.9152\n",
      "Epoch 195/200\n",
      "244/244 - 2s - loss: 0.2657 - accuracy: 0.9170\n",
      "Epoch 196/200\n",
      "244/244 - 2s - loss: 0.2663 - accuracy: 0.9159\n",
      "Epoch 197/200\n",
      "244/244 - 2s - loss: 0.2652 - accuracy: 0.9166\n",
      "Epoch 198/200\n",
      "244/244 - 2s - loss: 0.2660 - accuracy: 0.9173\n",
      "Epoch 199/200\n",
      "244/244 - 2s - loss: 0.2637 - accuracy: 0.9173\n",
      "Epoch 200/200\n",
      "244/244 - 2s - loss: 0.2655 - accuracy: 0.9163\n"
     ]
    },
    {
     "data": {
      "text/plain": [
       "<tensorflow.python.keras.callbacks.History at 0x1fe7b6f2cd0>"
      ]
     },
     "execution_count": 31,
     "metadata": {},
     "output_type": "execute_result"
    }
   ],
   "source": [
    "model = Sequential()\n",
    "model.add(Embedding(vocab_size, 10, input_length=max_len - 1))\n",
    "model.add(LSTM(128))\n",
    "model.add(Dense(vocab_size, activation='softmax'))\n",
    "model.compile(loss='categorical_crossentropy', optimizer='adam', metrics=['accuracy'])\n",
    "model.fit(X, y, epochs=200, verbose=2)"
   ]
  },
  {
   "cell_type": "code",
   "execution_count": null,
   "metadata": {},
   "outputs": [],
   "source": [
    "def sentence_generation(model, t, current_word, n): \n",
    "    init_word = current_word \n",
    "    sentence = ''\n",
    "    for _ in range(n): # n번 반복\n",
    "        encoded = t.texts_to_sequences([current_word])[0] \n",
    "        encoded = pad_sequences([encoded], maxlen=5) # 데이터에 대한 패딩\n",
    "        result = model.predict_classes(encoded, verbose=0)\n",
    "\n",
    "        for word, index in t.word_index.items(): \n",
    "            if index == result: # 만약 예측한 단어와 인덱스와 동일한 단어가 있다면\n",
    "                break # 해당 단어가 예측 단어이므로 break\n",
    "        current_word = current_word + ' '  + word # 현재 단어 + ' ' + 예측 단어를 현재 단어로 변경\n",
    "        sentence = sentence + ' ' + word # 예측 단어를 문장에 저장\n",
    "    # for문이므로 이 행동을 다시 반복\n",
    "    sentence = init_word + sentence\n",
    "    return sentence"
   ]
  }
 ],
 "metadata": {
  "kernelspec": {
   "display_name": "Python 3",
   "language": "python",
   "name": "python3"
  },
  "language_info": {
   "codemirror_mode": {
    "name": "ipython",
    "version": 3
   },
   "file_extension": ".py",
   "mimetype": "text/x-python",
   "name": "python",
   "nbconvert_exporter": "python",
   "pygments_lexer": "ipython3",
   "version": "3.8.3"
  }
 },
 "nbformat": 4,
 "nbformat_minor": 4
}
